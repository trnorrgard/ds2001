{
 "cells": [
  {
   "cell_type": "markdown",
   "metadata": {},
   "source": [
    "## Recursion\n",
    "\n",
    "\n",
    "### University of Virginia\n",
    "### Programming for Data Science\n",
    "### Last Updated: March 25, 2021\n",
    "---  \n",
    "\n",
    "### PREREQUISITES\n",
    "- variables\n",
    "- data types\n",
    "- operators \n",
    "- control structures\n",
    "- functions\n",
    "\n",
    "### SOURCES \n",
    "- https://en.wikipedia.org/wiki/Recursion\n",
    "\n",
    "\n",
    "### OBJECTIVES\n",
    "- introduce the concept of recursion\n",
    "- write a function that uses recursion \n",
    "\n",
    "\n",
    "### CONCEPTS\n",
    "\n",
    "- recursion\n",
    "- recursive function\n",
    "- stack\n",
    "- stack overflow\n",
    "\n",
    "---\n",
    "\n",
    "### A Cute Definition\n",
    "\n",
    "**recursion** - the art of defining something (at least partly) in terms of itself, which is a naughty no-no in dictionaries but often works out okay in computer programs if you’re careful not to recurse forever (which is like an infinite loop with more spectacular failure modes).\n",
    "\n",
    "Source: PerlDoc"
   ]
  },
  {
   "cell_type": "markdown",
   "metadata": {},
   "source": [
    "### A Formal Definition\n",
    "\n",
    "In mathematics and computer science, a class of objects or methods exhibits *recursive behavior* when it can be defined by two properties:\n",
    "\n",
    "A simple base case (or cases) — a terminating scenario that does not use recursion to produce an answer  \n",
    "A recursive step — a set of rules that reduces all successive cases toward the base case."
   ]
  },
  {
   "cell_type": "markdown",
   "metadata": {},
   "source": [
    "### [Factorial Example from the Reading (but slightly broken!)](https://www.programiz.com/python-programming/recursion)\n",
    "\n",
    "Factorial of a number *n* is the product of all the integers from 1 to *n*.  \n",
    "For example, the factorial of 5 (denoted as 5!) is 1 x 2 x 3 x 4 x 5 = 120.\n",
    "\n",
    "#### Fix this function to print factorial(5) = 120"
   ]
  },
  {
   "cell_type": "code",
   "execution_count": 2,
   "metadata": {
    "tags": []
   },
   "outputs": [
    {
     "name": "stdout",
     "output_type": "stream",
     "text": [
      "factorial(5) = 120\n"
     ]
    }
   ],
   "source": [
    "def factorial(x):\n",
    "    \"\"\"This is a recursive function\n",
    "    to find the factorial of an integer\"\"\"\n",
    "    \n",
    "    if x == 1:\n",
    "        return 1\n",
    "    else:\n",
    "        return (x * factorial(x-1))\n",
    "\n",
    "\n",
    "    \n",
    "print('factorial(5) =', factorial(5))"
   ]
  },
  {
   "cell_type": "code",
   "execution_count": 3,
   "metadata": {
    "collapsed": true,
    "jupyter": {
     "outputs_hidden": true,
     "source_hidden": true
    },
    "tags": []
   },
   "outputs": [
    {
     "name": "stdout",
     "output_type": "stream",
     "text": [
      "factorial(5) = 120\n"
     ]
    }
   ],
   "source": [
    "# solution\n",
    "\n",
    "def factorial(x):\n",
    "    \"\"\"This is a recursive function\n",
    "    to find the factorial of an integer\"\"\"\n",
    "\n",
    "    if x == 1:\n",
    "        return 1\n",
    "    else:\n",
    "        return (x * factorial(x-1))\n",
    "    \n",
    "print('factorial(5) =', factorial(5))"
   ]
  },
  {
   "cell_type": "markdown",
   "metadata": {},
   "source": [
    "### A Famous Example of Recursion: The Fibonacci sequence\n",
    "\n",
    "Fib(0) = 0 (base case 1)\n",
    "\n",
    "Fib(1) = 1 (base case 2)\n",
    "\n",
    "For all integers n > 1, Fib(n) = Fib(n − 1) + Fib(n − 2)"
   ]
  },
  {
   "cell_type": "markdown",
   "metadata": {},
   "source": [
    "### TRY FOR YOURSELF (UNGRADED EXERCISES)\n",
    "\n",
    "1) Use this recursive formula to generate the next 4 terms (by hand)"
   ]
  },
  {
   "cell_type": "code",
   "execution_count": null,
   "metadata": {},
   "outputs": [],
   "source": [
    "f(2) = 1+0 = 1\n",
    "f(3) = 1+1 = 2\n",
    "f(4) = 1+2 = 3\n",
    "f(5) = "
   ]
  },
  {
   "cell_type": "markdown",
   "metadata": {
    "jupyter": {
     "source_hidden": true
    },
    "tags": []
   },
   "source": [
    "Fib(2) = Fib(1) + Fib(0) = 0 + 1 = 1  \n",
    "Fib(3) = Fib(2) + Fib(1) = 1 + 1 = 2  \n",
    "Fib(4) = Fib(3) + Fib(2) = 2 + 1 = 3  \n",
    "Fib(5) = Fib(4) + Fib(3) = 3 + 2 = 5"
   ]
  },
  {
   "cell_type": "markdown",
   "metadata": {},
   "source": [
    "If you needed to generate the next 100 numbers in the sequence, it would be a chore!  \n",
    "This is perfect work for a computer.\n",
    "\n",
    "2) Now, write a Python function `fibonacci` to return the *nth* term in the sequence. Specifically, write the function with these requirements:\n",
    "- take an integer *n* as input\n",
    "- include the rules that define the sequence\n",
    "- compute the *nth* term in the sequence, using recursion (the function will call itself)\n",
    "- return the computed term\n",
    "\n",
    "Call `fibonacci(n)` for n=0,1,2,3,4,5 and verify it works properly."
   ]
  },
  {
   "cell_type": "code",
   "execution_count": 9,
   "metadata": {
    "tags": []
   },
   "outputs": [
    {
     "name": "stdout",
     "output_type": "stream",
     "text": [
      "0\n",
      "1\n",
      "1\n",
      "2\n",
      "3\n",
      "5\n"
     ]
    }
   ],
   "source": [
    "def fibonacci(n):\n",
    "    if type(n) != int or n < 0:\n",
    "        return (\"Input must be a non negative integer\")\n",
    "    elif n == 1:\n",
    "        return 1\n",
    "    elif n == 0:\n",
    "        return 0\n",
    "    else:\n",
    "        return (fibonacci(n-1)+fibonacci(n-2))\n",
    "    \n",
    "print(fibonacci(0))\n",
    "print(fibonacci(1))\n",
    "print(fibonacci(2))\n",
    "print(fibonacci(3))\n",
    "print(fibonacci(4))\n",
    "print(fibonacci(5))"
   ]
  },
  {
   "cell_type": "code",
   "execution_count": 4,
   "metadata": {
    "jupyter": {
     "source_hidden": true
    },
    "tags": []
   },
   "outputs": [],
   "source": [
    "def fibonacci(n):\n",
    "    \n",
    "    if n == 0:\n",
    "        return 0\n",
    "    elif n == 1:\n",
    "        return 1\n",
    "    else:\n",
    "        return fibonacci(n-1) + fibonacci(n-2)"
   ]
  },
  {
   "cell_type": "code",
   "execution_count": 7,
   "metadata": {
    "collapsed": true,
    "jupyter": {
     "outputs_hidden": true,
     "source_hidden": true
    },
    "tags": []
   },
   "outputs": [
    {
     "name": "stdout",
     "output_type": "stream",
     "text": [
      "0\n",
      "1\n",
      "1\n",
      "2\n",
      "3\n",
      "5\n"
     ]
    }
   ],
   "source": [
    "print(fibonacci(0))\n",
    "print(fibonacci(1))\n",
    "print(fibonacci(2))\n",
    "print(fibonacci(3))\n",
    "print(fibonacci(4))\n",
    "print(fibonacci(5))"
   ]
  },
  {
   "cell_type": "markdown",
   "metadata": {},
   "source": [
    "Think about how this works...it's very cool!  \n",
    "\n",
    "If you call fibonacci(2), \n",
    "- flow goes to the else statement,\n",
    "- which calls fibonacci(1) and fibonacci(0),\n",
    "- so those need to get computed,  \n",
    "  - fibonacci(1) goes to the `elif`, returning 1\n",
    "  - fibonacci(0) goes to the `if`, returning 0   \n",
    "  - back in the else statement, fibonacci(1) and fibonacci(0) => 1 + 0 = 1\n",
    "  \n",
    " \n",
    " If you call fibonacci(3), a similar pattern occurs, with even more computes taking place.  \n",
    " How many times will `fibonacci` get called?"
   ]
  },
  {
   "cell_type": "markdown",
   "metadata": {},
   "source": [
    "3) Now call `fibonacci(5.1)` and `fibonacci(-1)`.  What happens?"
   ]
  },
  {
   "cell_type": "code",
   "execution_count": 10,
   "metadata": {
    "collapsed": true,
    "jupyter": {
     "outputs_hidden": true
    },
    "tags": []
   },
   "outputs": [
    {
     "data": {
      "text/plain": [
       "'This is an invalid input'"
      ]
     },
     "execution_count": 10,
     "metadata": {},
     "output_type": "execute_result"
    }
   ],
   "source": [
    "fibonacci(5.1)"
   ]
  },
  {
   "cell_type": "code",
   "execution_count": 9,
   "metadata": {
    "collapsed": true,
    "jupyter": {
     "outputs_hidden": true
    }
   },
   "outputs": [
    {
     "ename": "RecursionError",
     "evalue": "maximum recursion depth exceeded in comparison",
     "output_type": "error",
     "traceback": [
      "\u001b[1;31m---------------------------------------------------------------------------\u001b[0m",
      "\u001b[1;31mRecursionError\u001b[0m                            Traceback (most recent call last)",
      "\u001b[1;32m<ipython-input-9-92fee346cebb>\u001b[0m in \u001b[0;36m<module>\u001b[1;34m\u001b[0m\n\u001b[1;32m----> 1\u001b[1;33m \u001b[0mfibonacci\u001b[0m\u001b[1;33m(\u001b[0m\u001b[1;33m-\u001b[0m\u001b[1;36m1\u001b[0m\u001b[1;33m)\u001b[0m\u001b[1;33m\u001b[0m\u001b[1;33m\u001b[0m\u001b[0m\n\u001b[0m",
      "\u001b[1;32m<ipython-input-4-4257eeec16eb>\u001b[0m in \u001b[0;36mfibonacci\u001b[1;34m(n)\u001b[0m\n\u001b[0;32m      6\u001b[0m         \u001b[1;32mreturn\u001b[0m \u001b[1;36m1\u001b[0m\u001b[1;33m\u001b[0m\u001b[1;33m\u001b[0m\u001b[0m\n\u001b[0;32m      7\u001b[0m     \u001b[1;32melse\u001b[0m\u001b[1;33m:\u001b[0m\u001b[1;33m\u001b[0m\u001b[1;33m\u001b[0m\u001b[0m\n\u001b[1;32m----> 8\u001b[1;33m         \u001b[1;32mreturn\u001b[0m \u001b[0mfibonacci\u001b[0m\u001b[1;33m(\u001b[0m\u001b[0mn\u001b[0m\u001b[1;33m-\u001b[0m\u001b[1;36m1\u001b[0m\u001b[1;33m)\u001b[0m \u001b[1;33m+\u001b[0m \u001b[0mfibonacci\u001b[0m\u001b[1;33m(\u001b[0m\u001b[0mn\u001b[0m\u001b[1;33m-\u001b[0m\u001b[1;36m2\u001b[0m\u001b[1;33m)\u001b[0m\u001b[1;33m\u001b[0m\u001b[1;33m\u001b[0m\u001b[0m\n\u001b[0m",
      "... last 1 frames repeated, from the frame below ...\n",
      "\u001b[1;32m<ipython-input-4-4257eeec16eb>\u001b[0m in \u001b[0;36mfibonacci\u001b[1;34m(n)\u001b[0m\n\u001b[0;32m      6\u001b[0m         \u001b[1;32mreturn\u001b[0m \u001b[1;36m1\u001b[0m\u001b[1;33m\u001b[0m\u001b[1;33m\u001b[0m\u001b[0m\n\u001b[0;32m      7\u001b[0m     \u001b[1;32melse\u001b[0m\u001b[1;33m:\u001b[0m\u001b[1;33m\u001b[0m\u001b[1;33m\u001b[0m\u001b[0m\n\u001b[1;32m----> 8\u001b[1;33m         \u001b[1;32mreturn\u001b[0m \u001b[0mfibonacci\u001b[0m\u001b[1;33m(\u001b[0m\u001b[0mn\u001b[0m\u001b[1;33m-\u001b[0m\u001b[1;36m1\u001b[0m\u001b[1;33m)\u001b[0m \u001b[1;33m+\u001b[0m \u001b[0mfibonacci\u001b[0m\u001b[1;33m(\u001b[0m\u001b[0mn\u001b[0m\u001b[1;33m-\u001b[0m\u001b[1;36m2\u001b[0m\u001b[1;33m)\u001b[0m\u001b[1;33m\u001b[0m\u001b[1;33m\u001b[0m\u001b[0m\n\u001b[0m",
      "\u001b[1;31mRecursionError\u001b[0m: maximum recursion depth exceeded in comparison"
     ]
    }
   ],
   "source": [
    "fibonacci(-1)"
   ]
  },
  {
   "cell_type": "markdown",
   "metadata": {},
   "source": [
    "If it worked properly, excellent!  \n",
    "\n",
    "If not, you might want to rewrite your function below to handle such edge cases.  \n",
    "\n",
    "Specifically, have the function return the value -1 for invalid *n*.\n",
    "\n",
    "Reminder: the sequence is defined for whole numbers (0, 1, 2, ...)  \n",
    "\n",
    "Call the function again, and verify the cases work properly."
   ]
  },
  {
   "cell_type": "code",
   "execution_count": 15,
   "metadata": {},
   "outputs": [
    {
     "name": "stdout",
     "output_type": "stream",
     "text": [
      "-1\n",
      "-1\n",
      "-1\n"
     ]
    }
   ],
   "source": [
    "def fibonacci_robust(n):\n",
    "    if (type(n) != int) or (n < 0):\n",
    "        return -1\n",
    "    elif n == 1:\n",
    "        return 1\n",
    "    elif n == 0:\n",
    "        return 0\n",
    "    else:\n",
    "        return (fibonacci_robust(n-1)+fibonacci_robust(n-2))\n",
    "    \n",
    "print(fibonacci_robust(5.1))\n",
    "print(fibonacci_robust(-2))\n",
    "print(fibonacci_robust(\"8\"))"
   ]
  },
  {
   "cell_type": "code",
   "execution_count": 10,
   "metadata": {
    "jupyter": {
     "source_hidden": true
    },
    "tags": []
   },
   "outputs": [],
   "source": [
    "def fibonacci_robust(n):\n",
    "    \n",
    "    if (not isinstance(n, int)) or (n < 0):\n",
    "        return -1\n",
    "    \n",
    "    if n == 0:\n",
    "        return 0\n",
    "    elif n == 1:\n",
    "        return 1\n",
    "    else:\n",
    "        return fibonacci_robust(n-1) + fibonacci_robust(n-2)"
   ]
  },
  {
   "cell_type": "code",
   "execution_count": 11,
   "metadata": {
    "collapsed": true,
    "jupyter": {
     "outputs_hidden": true,
     "source_hidden": true
    },
    "tags": []
   },
   "outputs": [
    {
     "name": "stdout",
     "output_type": "stream",
     "text": [
      "-1\n",
      "-1\n",
      "0\n",
      "1\n",
      "1\n",
      "2\n",
      "3\n",
      "5\n"
     ]
    }
   ],
   "source": [
    "# edge cases\n",
    "print(fibonacci_robust(5.1))\n",
    "print(fibonacci_robust(-1))\n",
    "\n",
    "# valid cases\n",
    "print(fibonacci_robust(0))\n",
    "print(fibonacci_robust(1))\n",
    "print(fibonacci_robust(2))\n",
    "print(fibonacci_robust(3))\n",
    "print(fibonacci_robust(4))\n",
    "print(fibonacci_robust(5))"
   ]
  },
  {
   "cell_type": "markdown",
   "metadata": {},
   "source": [
    "### Infinite Loops and Stack Overflows\n",
    "\n",
    "When we called `print(fibonacci(-1))` we saw this error:\n",
    "\n",
    "```\n",
    "---------------------------------------------------------------------------\n",
    "RecursionError                            Traceback (most recent call last)\n",
    "<ipython-input-24-92fee346cebb> in <module>\n",
    "...\n",
    "\n",
    "RecursionError: maximum recursion depth exceeded in comparison\n",
    "---------------------------------------------------------------------------\n",
    "\n",
    "```"
   ]
  },
  {
   "cell_type": "markdown",
   "metadata": {},
   "source": [
    "The issue: Every recursive function must have a base condition that stops the recursion or else the function calls itself infinitely.\n",
    "\n",
    "There is NO BASE CONDITION when we pass -1.\n",
    "\n",
    "NOTE: The Python interpreter limits the depths of recursion to help avoid infinite recursions, resulting in stack overflows."
   ]
  },
  {
   "cell_type": "markdown",
   "metadata": {},
   "source": [
    "### Definitions\n",
    "\n",
    "The *call stack* is where information is stored relating to the active subroutines in a program.\n",
    "\n",
    "The call stack has a limited amount of available memory. When excessive memory consumption occurs on the call stack,\n",
    "it results in a **stack overflow error**."
   ]
  },
  {
   "cell_type": "markdown",
   "metadata": {},
   "source": [
    "---"
   ]
  }
 ],
 "metadata": {
  "anaconda-cloud": {},
  "kernelspec": {
   "display_name": "Python 3",
   "language": "python",
   "name": "python3"
  },
  "language_info": {
   "codemirror_mode": {
    "name": "ipython",
    "version": 3
   },
   "file_extension": ".py",
   "mimetype": "text/x-python",
   "name": "python",
   "nbconvert_exporter": "python",
   "pygments_lexer": "ipython3",
   "version": "3.8.8"
  }
 },
 "nbformat": 4,
 "nbformat_minor": 4
}
