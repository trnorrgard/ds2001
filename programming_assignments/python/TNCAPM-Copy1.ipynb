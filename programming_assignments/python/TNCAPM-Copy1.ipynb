{
 "cells": [
  {
   "cell_type": "markdown",
   "metadata": {},
   "source": [
    "## Capital Asset Pricing Model (CAPM)\n",
    "### Strength Training with Functions, Numpy\n",
    "\n",
    "\n",
    "### University of Virginia\n",
    "### Programming for Data Science\n",
    "### Last Updated: June 29, 2021\n",
    "---"
   ]
  },
  {
   "cell_type": "markdown",
   "metadata": {},
   "source": [
    "### Objectives: \n",
    "- Use numpy and functions to compute a stock's CAPM beta\n",
    "- Perform sensitivity analysis to understand how the data points impact the beta estimate\n",
    "\n",
    "### Background\n",
    "\n",
    "\n",
    "In finance, CAPM is a single-factor regression model used for explaining and predicting excess stock returns. There are better, more accurate models, but it has its uses. For example, the *market beta* is a useful output.\n",
    "\n",
    "\n",
    "Here is the formula for calculating the expected excess return:\n",
    "\n",
    "\\begin{aligned} &E[R_i] - R_f  = \\beta_i ( E[R_m] - R_f ) \\\\ \\\\ &\\textbf{where:} \\\\ &ER_i = \\text{expected return of stock i} \\\\ &R_f = \\text{risk-free rate} \\\\ &\\beta_i = \\text{beta of the stock} \\\\ &ER_m - R_f = \\text{market risk premium} \\\\ \\end{aligned} \n",
    "\n",
    "#### Review the instructions below to complete the requested tasks.\n",
    "\n",
    "#### TOTAL POINTS: 10\n",
    "---  \n"
   ]
  },
  {
   "cell_type": "code",
   "execution_count": 3,
   "metadata": {},
   "outputs": [],
   "source": [
    "# load modules\n",
    "import numpy as np\n",
    "import pandas as pd\n",
    "\n",
    "# risk-free Treasury rate\n",
    "R_f = 0.0175 / 252"
   ]
  },
  {
   "cell_type": "code",
   "execution_count": 4,
   "metadata": {},
   "outputs": [],
   "source": [
    "# read in the market data\n",
    "data = pd.read_csv('capm_market_data.csv')"
   ]
  },
  {
   "cell_type": "markdown",
   "metadata": {},
   "source": [
    "Look at some records  \n",
    "SPY is an ETF for the S&P 500 (the \"stock market\")  \n",
    "AAPL is Apple  \n",
    "The values are closing prices, adjusted for splits and dividends"
   ]
  },
  {
   "cell_type": "markdown",
   "metadata": {},
   "source": [
    "Drop the date column"
   ]
  },
  {
   "cell_type": "code",
   "execution_count": 5,
   "metadata": {},
   "outputs": [],
   "source": [
    "data = data.drop('date', 1)"
   ]
  },
  {
   "cell_type": "markdown",
   "metadata": {},
   "source": [
    "Compute daily returns (percentage changes in price) for SPY, AAPL  \n",
    "Be sure to drop the first row of NaN  \n",
    "Hint: pandas has functions to easily do this"
   ]
  },
  {
   "cell_type": "code",
   "execution_count": 10,
   "metadata": {},
   "outputs": [],
   "source": [
    "data_returns = data.pct_change()\n",
    "data_returns = data_returns.drop(index = 0)"
   ]
  },
  {
   "cell_type": "markdown",
   "metadata": {},
   "source": [
    "#### 1. (1 PT) Print the first 5 rows of returns"
   ]
  },
  {
   "cell_type": "code",
   "execution_count": 11,
   "metadata": {},
   "outputs": [
    {
     "data": {
      "text/html": [
       "<div>\n",
       "<style scoped>\n",
       "    .dataframe tbody tr th:only-of-type {\n",
       "        vertical-align: middle;\n",
       "    }\n",
       "\n",
       "    .dataframe tbody tr th {\n",
       "        vertical-align: top;\n",
       "    }\n",
       "\n",
       "    .dataframe thead th {\n",
       "        text-align: right;\n",
       "    }\n",
       "</style>\n",
       "<table border=\"1\" class=\"dataframe\">\n",
       "  <thead>\n",
       "    <tr style=\"text-align: right;\">\n",
       "      <th></th>\n",
       "      <th>spy_adj_close</th>\n",
       "      <th>aapl_adj_close</th>\n",
       "    </tr>\n",
       "  </thead>\n",
       "  <tbody>\n",
       "    <tr>\n",
       "      <th>1</th>\n",
       "      <td>-0.007572</td>\n",
       "      <td>-0.009722</td>\n",
       "    </tr>\n",
       "    <tr>\n",
       "      <th>2</th>\n",
       "      <td>0.003815</td>\n",
       "      <td>0.007968</td>\n",
       "    </tr>\n",
       "    <tr>\n",
       "      <th>3</th>\n",
       "      <td>-0.002812</td>\n",
       "      <td>-0.004703</td>\n",
       "    </tr>\n",
       "    <tr>\n",
       "      <th>4</th>\n",
       "      <td>0.005330</td>\n",
       "      <td>0.016086</td>\n",
       "    </tr>\n",
       "    <tr>\n",
       "      <th>5</th>\n",
       "      <td>0.006781</td>\n",
       "      <td>0.021241</td>\n",
       "    </tr>\n",
       "  </tbody>\n",
       "</table>\n",
       "</div>"
      ],
      "text/plain": [
       "   spy_adj_close  aapl_adj_close\n",
       "1      -0.007572       -0.009722\n",
       "2       0.003815        0.007968\n",
       "3      -0.002812       -0.004703\n",
       "4       0.005330        0.016086\n",
       "5       0.006781        0.021241"
      ]
     },
     "execution_count": 11,
     "metadata": {},
     "output_type": "execute_result"
    }
   ],
   "source": [
    "data_returns.head(5)"
   ]
  },
  {
   "cell_type": "markdown",
   "metadata": {},
   "source": [
    "Save AAPL, SPY returns into separate numpy arrays  \n",
    "#### 2. (1 PT) Print the first five values from the SPY numpy array, and the AAPL numpy array"
   ]
  },
  {
   "cell_type": "code",
   "execution_count": 12,
   "metadata": {},
   "outputs": [
    {
     "data": {
      "text/plain": [
       "array([-0.00757217,  0.00381507, -0.0028118 ,  0.00532953,  0.00678059])"
      ]
     },
     "execution_count": 12,
     "metadata": {},
     "output_type": "execute_result"
    }
   ],
   "source": [
    "spynp = np.array(data_returns['spy_adj_close'])\n",
    "spynp[0:5]"
   ]
  },
  {
   "cell_type": "code",
   "execution_count": 13,
   "metadata": {},
   "outputs": [
    {
     "data": {
      "text/plain": [
       "array([-0.00972206,  0.00796825, -0.00470303,  0.01608619,  0.02124092])"
      ]
     },
     "execution_count": 13,
     "metadata": {},
     "output_type": "execute_result"
    }
   ],
   "source": [
    "aaplnp = np.array(data_returns['aapl_adj_close'])\n",
    "aaplnp[0:5]"
   ]
  },
  {
   "cell_type": "markdown",
   "metadata": {},
   "source": [
    "##### Compute the excess returns of AAPL, SPY by simply subtracting the constant *R_f* from the returns.\n",
    "##### Specifically, for the numpy array containing AAPL returns, subtract *R_f* from each of the returns. Repeat for SPY returns.\n",
    "\n",
    "NOTE:  \n",
    "AAPL - *R_f* = excess return of Apple stock  \n",
    "SPY - *R_f* = excess return of stock market\n"
   ]
  },
  {
   "cell_type": "code",
   "execution_count": 14,
   "metadata": {},
   "outputs": [],
   "source": [
    "aapl_excess = aaplnp - R_f\n",
    "spy_excess = spynp - R_f"
   ]
  },
  {
   "cell_type": "markdown",
   "metadata": {},
   "source": [
    "#### 3. (1 PT) Print the LAST five excess returns from both AAPL, SPY numpy arrays\n"
   ]
  },
  {
   "cell_type": "code",
   "execution_count": 15,
   "metadata": {},
   "outputs": [
    {
     "data": {
      "text/plain": [
       "array([ 0.00423088,  0.00167981, -0.00468264,  0.01647898,  0.00680788])"
      ]
     },
     "execution_count": 15,
     "metadata": {},
     "output_type": "execute_result"
    }
   ],
   "source": [
    "aapl_excess[-5:]"
   ]
  },
  {
   "cell_type": "code",
   "execution_count": 16,
   "metadata": {},
   "outputs": [
    {
     "data": {
      "text/plain": [
       "array([-0.00576237,  0.0101411 , -0.00872841,  0.01288957,  0.00911779])"
      ]
     },
     "execution_count": 16,
     "metadata": {},
     "output_type": "execute_result"
    }
   ],
   "source": [
    "spy_excess[-5:]"
   ]
  },
  {
   "cell_type": "markdown",
   "metadata": {},
   "source": [
    "#### 4. (1 PT) Make a scatterplot with SPY excess returns on x-axis, AAPL excess returns on y-axis####\n",
    "Matplotlib documentation: https://matplotlib.org/stable/api/_as_gen/matplotlib.pyplot.scatter.html"
   ]
  },
  {
   "cell_type": "code",
   "execution_count": 17,
   "metadata": {},
   "outputs": [],
   "source": [
    "import matplotlib.pyplot as plt"
   ]
  },
  {
   "cell_type": "code",
   "execution_count": 18,
   "metadata": {},
   "outputs": [
    {
     "data": {
      "text/plain": [
       "<matplotlib.collections.PathCollection at 0x7fa445744520>"
      ]
     },
     "execution_count": 18,
     "metadata": {},
     "output_type": "execute_result"
    },
    {
     "data": {
      "image/png": "[encoded data removed]",
      "text/plain": [
       "<Figure size 432x288 with 1 Axes>"
      ]
     },
     "metadata": {
      "needs_background": "light"
     },
     "output_type": "display_data"
    }
   ],
   "source": [
    "plt.scatter(x=spy_excess, y=aapl_excess)"
   ]
  },
  {
   "cell_type": "markdown",
   "metadata": {},
   "source": [
    "#### 5. (3 PTS) Use Linear Algebra (matrices) to Compute the Regression Coefficient Estimate, \\\\(\\hat\\beta_i\\\\)\n",
    "\n",
    "Hint 1: Here is the matrix formula where *x′* denotes transpose of *x*.\n",
    "\n",
    "\\begin{aligned} \\hat\\beta_i=(x′x)^{−1}x′y \\end{aligned} \n",
    "\n",
    "Hint 2: consider numpy functions for matrix multiplication, transpose, and inverse. Be sure to review what these operations do, and how they work, if you're a bit rusty."
   ]
  },
  {
   "cell_type": "code",
   "execution_count": 20,
   "metadata": {},
   "outputs": [
    {
     "data": {
      "text/plain": [
       "array([[1.08833171]])"
      ]
     },
     "execution_count": 20,
     "metadata": {},
     "output_type": "execute_result"
    }
   ],
   "source": [
    "x_transpose = x.transpose()\n",
    "mult = np.matmul(x_transpose, x)\n",
    "inverse = mult**(-1)\n",
    "inverse_times_transpose = inverse * x_transpose\n",
    "beta_est = np.matmul(inverse_times_transpose, y)\n",
    "beta_est"
   ]
  },
  {
   "cell_type": "markdown",
   "metadata": {},
   "source": [
    "You should have found that the beta estimate is greater than one.  \n",
    "This means that the risk of AAPL stock, given the data, and according to this particular (flawed) model,  \n",
    "is higher relative to the risk of the S&P 500.\n"
   ]
  },
  {
   "cell_type": "markdown",
   "metadata": {},
   "source": [
    "#### Measuring Beta Sensitivity to Dropping Observations (Jackknifing)"
   ]
  },
  {
   "cell_type": "markdown",
   "metadata": {},
   "source": [
    "Let's understand how sensitive the beta is to each data point.   \n",
    "We want to drop each data point (one at a time), compute \\\\(\\hat\\beta_i\\\\) using our formula from above, and save each measurement.\n",
    "\n",
    "#### 6. (3 PTS) Write a function called `beta_sensitivity()` with these specs:\n",
    "\n",
    "- take numpy arrays x and y as inputs\n",
    "- output a list of tuples. each tuple contains (observation row dropped, beta estimate)\n",
    "\n",
    "Hint: **np.delete(x, i).reshape(-1,1)** will delete observation i from array x, and make it a column vector"
   ]
  },
  {
   "cell_type": "code",
   "execution_count": 23,
   "metadata": {},
   "outputs": [],
   "source": [
    "def beta_sensitivity(x, y):\n",
    "    '''\n",
    "    PURPOSE\n",
    "    calculate the beta value by sequentially omitting rows of the data,  helps to see if a certain row has a large effect on the data.\n",
    "    \n",
    "    INPUTS\n",
    "    2 arrays\n",
    "    \n",
    "    OUTPUTS\n",
    "    a list of beta values for each row omitted\n",
    "    '''\n",
    "    out = []\n",
    "    nobs = x.shape[0]\n",
    "    for ix in range(nobs):\n",
    "        xx = np.delete(x, ix).reshape(-1,1)\n",
    "        yy = np.delete(y, ix).reshape(-1,1)\n",
    "    \n",
    "        bi = np.matmul(np.matmul(np.linalg.inv(np.matmul(xx.transpose(), xx)), xx.transpose()), yy)\n",
    "        out.append((ix, bi[0][0]))\n",
    "        \n",
    "    return out"
   ]
  },
  {
   "cell_type": "markdown",
   "metadata": {},
   "source": [
    "#### Call `beta_sensitivity()` and print the first five tuples of output."
   ]
  },
  {
   "cell_type": "code",
   "execution_count": 26,
   "metadata": {
    "tags": []
   },
   "outputs": [
    {
     "data": {
      "text/plain": [
       "[(0, 1.0882175232839155),\n",
       " (1, 1.0881867249750736),\n",
       " (2, 1.0882839540700084),\n",
       " (3, 1.087783412511201),\n",
       " (4, 1.087388967419927),\n",
       " (5, 1.0884928178727575),\n",
       " (6, 1.0873741028898394),\n",
       " (7, 1.088140636779237),\n",
       " (8, 1.0884811629543445),\n",
       " (9, 1.0880409034095484),\n",
       " (10, 1.088094750467021),\n",
       " (11, 1.0882364520150856),\n",
       " (12, 1.0883299182507182),\n",
       " (13, 1.0882927187857918),\n",
       " (14, 1.0889495310298156),\n",
       " (15, 1.0863780819732245),\n",
       " (16, 1.0865494898852088),\n",
       " (17, 1.0885297065082968),\n",
       " (18, 1.088491701902338),\n",
       " (19, 1.0837818002842767),\n",
       " (20, 1.0891387223848366),\n",
       " (21, 1.0858015749017227),\n",
       " (22, 1.0888446385100985),\n",
       " (23, 1.0880633828590764),\n",
       " (24, 1.0879059431843128),\n",
       " (25, 1.0885841328362444),\n",
       " (26, 1.0884650017749073),\n",
       " (27, 1.0872508890225636),\n",
       " (28, 1.08826319834466),\n",
       " (29, 1.0883548487087042),\n",
       " (30, 1.0879163429749452),\n",
       " (31, 1.0878886227856681),\n",
       " (32, 1.0880870969080632),\n",
       " (33, 1.08713150509693),\n",
       " (34, 1.084452371072754),\n",
       " (35, 1.0880563371124863),\n",
       " (36, 1.0890858801799288),\n",
       " (37, 1.0806676738213599),\n",
       " (38, 1.0885044354236664),\n",
       " (39, 1.0678165826820334),\n",
       " (40, 1.0881583521402631),\n",
       " (41, 1.0880527337839974),\n",
       " (42, 1.0896098426835064),\n",
       " (43, 1.089126848309825),\n",
       " (44, 1.0933145515714406),\n",
       " (45, 1.079882456177907),\n",
       " (46, 1.0976161151806032),\n",
       " (47, 1.0940808109141955),\n",
       " (48, 1.0633264223602468),\n",
       " (49, 1.0762797193890985),\n",
       " (50, 1.0966487466808468),\n",
       " (51, 1.1044771012551267),\n",
       " (52, 1.088539177491575),\n",
       " (53, 1.0809469624744996),\n",
       " (54, 1.090053452227715),\n",
       " (55, 1.086607195591547),\n",
       " (56, 1.091627351077772),\n",
       " (57, 1.0950088523015666),\n",
       " (58, 1.0855926055192333),\n",
       " (59, 1.0905869425418904),\n",
       " (60, 1.0904877035100982),\n",
       " (61, 1.0866399444125237),\n",
       " (62, 1.090303796511386),\n",
       " (63, 1.0885329469687357),\n",
       " (64, 1.0782635717216609),\n",
       " (65, 1.0884537291124239),\n",
       " (66, 1.0920824714126502),\n",
       " (67, 1.0897674690500982),\n",
       " (68, 1.0910884791498399),\n",
       " (69, 1.0827982401148997),\n",
       " (70, 1.0913682718545612),\n",
       " (71, 1.088201621193226),\n",
       " (72, 1.1001404307738407),\n",
       " (73, 1.0880484993485695),\n",
       " (74, 1.0889976639205117),\n",
       " (75, 1.0872837868731047),\n",
       " (76, 1.0883262832526843),\n",
       " (77, 1.0864032809964275),\n",
       " (78, 1.0905124761213991),\n",
       " (79, 1.0878023146637434),\n",
       " (80, 1.087170959362762),\n",
       " (81, 1.0913008958492465),\n",
       " (82, 1.0917743767026384),\n",
       " (83, 1.0880280521427768),\n",
       " (84, 1.0878708412984364),\n",
       " (85, 1.0895596469397293),\n",
       " (86, 1.0886701061516475),\n",
       " (87, 1.087361407411822),\n",
       " (88, 1.0883103715653117),\n",
       " (89, 1.0904199724390333),\n",
       " (90, 1.0896266236845507),\n",
       " (91, 1.0891610838810166),\n",
       " (92, 1.08883189249108),\n",
       " (93, 1.0913082446903863),\n",
       " (94, 1.0888983403535724),\n",
       " (95, 1.0881658018319647),\n",
       " (96, 1.0883362618293368),\n",
       " (97, 1.0882506045843),\n",
       " (98, 1.090838222911731),\n",
       " (99, 1.090109563342014),\n",
       " (100, 1.0883792754128716),\n",
       " (101, 1.0885901252783268),\n",
       " (102, 1.0880137074260867),\n",
       " (103, 1.0886957475511538),\n",
       " (104, 1.0895365585293175),\n",
       " (105, 1.0881748010158458),\n",
       " (106, 1.0881770554690835),\n",
       " (107, 1.0892135476756701),\n",
       " (108, 1.0913586459692814),\n",
       " (109, 1.090151658223135),\n",
       " (110, 1.0972445437580793),\n",
       " (111, 1.088862149992924),\n",
       " (112, 1.0881238935722246),\n",
       " (113, 1.0872479225991776),\n",
       " (114, 1.088465791633034),\n",
       " (115, 1.088331752810593),\n",
       " (116, 1.0883616559629048),\n",
       " (117, 1.08709835223175),\n",
       " (118, 1.087581363823127),\n",
       " (119, 1.0909690286294733),\n",
       " (120, 1.088157426650271),\n",
       " (121, 1.0871502954038443),\n",
       " (122, 1.0872842231540252),\n",
       " (123, 1.0890536239425215),\n",
       " (124, 1.0889997542439693),\n",
       " (125, 1.088661434779397),\n",
       " (126, 1.086778918260965),\n",
       " (127, 1.089187155142838),\n",
       " (128, 1.0871820888140857),\n",
       " (129, 1.088944658023823),\n",
       " (130, 1.0892934842767592),\n",
       " (131, 1.0887577193881939),\n",
       " (132, 1.088011312827873),\n",
       " (133, 1.0886195470282827)]"
      ]
     },
     "execution_count": 26,
     "metadata": {},
     "output_type": "execute_result"
    }
   ],
   "source": [
    "beta_sensitivity(spy_excess, aapl_excess)"
   ]
  }
 ],
 "metadata": {
  "kernelspec": {
   "display_name": "Python 3",
   "language": "python",
   "name": "python3"
  },
  "language_info": {
   "codemirror_mode": {
    "name": "ipython",
    "version": 3
   },
   "file_extension": ".py",
   "mimetype": "text/x-python",
   "name": "python",
   "nbconvert_exporter": "python",
   "pygments_lexer": "ipython3",
   "version": "3.8.8"
  }
 },
 "nbformat": 4,
 "nbformat_minor": 4
}
