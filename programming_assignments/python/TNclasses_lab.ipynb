{
 "cells": [
  {
   "cell_type": "markdown",
   "id": "5d957ad9-1e22-4c0c-a7f3-e7f2edcd9817",
   "metadata": {},
   "source": [
    "#### Teagan Norrgard Classes Lab"
   ]
  },
  {
   "cell_type": "markdown",
   "id": "993af761-4ca3-4308-ac0f-709ee1181195",
   "metadata": {},
   "source": [
    "### 1"
   ]
  },
  {
   "cell_type": "code",
   "execution_count": 2,
   "id": "428a8c78-c801-4cb7-b03a-fa92ef1d14eb",
   "metadata": {},
   "outputs": [],
   "source": [
    "import pandas as pd\n",
    "\n",
    "file_path = \"/Users/teagannorrgard/Fall2021/DS2001/repos/ds2001/programming_assignments/python/apple_data.csv\"\n",
    "apple = pd.read_csv(file_path)"
   ]
  },
  {
   "cell_type": "markdown",
   "id": "e5ce516d-97fa-4e4b-a1bd-1a86c5bb62b5",
   "metadata": {},
   "source": [
    "### 2"
   ]
  },
  {
   "cell_type": "code",
   "execution_count": 3,
   "id": "0bfb863b-35f8-413c-b4b0-01060bc44bcc",
   "metadata": {},
   "outputs": [],
   "source": [
    "class stock:\n",
    "    \n",
    "    def __init__(self, ticker, prices, sector):\n",
    "        self.ticker = ticker\n",
    "        self.prices = prices\n",
    "        self.sector = sector\n",
    "        \n",
    "    def print_sector(self):\n",
    "        return self.sector\n",
    "        \n",
    "    def get_row_count(self):\n",
    "        self.price_records = len(self.prices.index)\n",
    "        return self.price_records"
   ]
  },
  {
   "cell_type": "markdown",
   "id": "d363171f-07bf-4b6c-8835-a0de869802f9",
   "metadata": {},
   "source": [
    "### 3"
   ]
  },
  {
   "cell_type": "code",
   "execution_count": 4,
   "id": "10b1ec74-f7f2-4d6b-a26c-c55db0f58473",
   "metadata": {},
   "outputs": [
    {
     "data": {
      "text/plain": [
       "'AAPL'"
      ]
     },
     "execution_count": 4,
     "metadata": {},
     "output_type": "execute_result"
    }
   ],
   "source": [
    "appl = stock('AAPL', apple, 'technology')\n",
    "appl.ticker"
   ]
  },
  {
   "cell_type": "markdown",
   "id": "7c8e5d05-feea-423b-9d4b-ec60c3a6cfe4",
   "metadata": {},
   "source": [
    "### 4"
   ]
  },
  {
   "cell_type": "code",
   "execution_count": 5,
   "id": "e8884f9e-c2a5-4554-befc-db340168ae72",
   "metadata": {},
   "outputs": [
    {
     "data": {
      "text/plain": [
       "'technology'"
      ]
     },
     "execution_count": 5,
     "metadata": {},
     "output_type": "execute_result"
    }
   ],
   "source": [
    "appl.print_sector()"
   ]
  },
  {
   "cell_type": "markdown",
   "id": "12137a47-5937-4930-bd7a-e7c682fa8438",
   "metadata": {},
   "source": [
    "### 5"
   ]
  },
  {
   "cell_type": "code",
   "execution_count": 6,
   "id": "bb2a6ed0-8093-42ee-b88a-d4c1110d2420",
   "metadata": {},
   "outputs": [
    {
     "data": {
      "text/plain": [
       "135"
      ]
     },
     "execution_count": 6,
     "metadata": {},
     "output_type": "execute_result"
    }
   ],
   "source": [
    "appl.get_row_count()\n",
    "appl.price_records"
   ]
  },
  {
   "cell_type": "markdown",
   "id": "a1a1ed40-58b0-4a64-90bf-a5640dffef25",
   "metadata": {},
   "source": [
    "### 6"
   ]
  },
  {
   "cell_type": "code",
   "execution_count": 7,
   "id": "359d8e96-e51a-4499-8754-e0ff2f891980",
   "metadata": {},
   "outputs": [
    {
     "data": {
      "text/html": [
       "<div>\n",
       "<style scoped>\n",
       "    .dataframe tbody tr th:only-of-type {\n",
       "        vertical-align: middle;\n",
       "    }\n",
       "\n",
       "    .dataframe tbody tr th {\n",
       "        vertical-align: top;\n",
       "    }\n",
       "\n",
       "    .dataframe thead th {\n",
       "        text-align: right;\n",
       "    }\n",
       "</style>\n",
       "<table border=\"1\" class=\"dataframe\">\n",
       "  <thead>\n",
       "    <tr style=\"text-align: right;\">\n",
       "      <th></th>\n",
       "      <th>date</th>\n",
       "      <th>adj_close</th>\n",
       "      <th>returns</th>\n",
       "    </tr>\n",
       "  </thead>\n",
       "  <tbody>\n",
       "    <tr>\n",
       "      <th>0</th>\n",
       "      <td>2020-01-02</td>\n",
       "      <td>298.829956</td>\n",
       "      <td>NaN</td>\n",
       "    </tr>\n",
       "    <tr>\n",
       "      <th>1</th>\n",
       "      <td>2020-01-03</td>\n",
       "      <td>295.924713</td>\n",
       "      <td>-0.009722</td>\n",
       "    </tr>\n",
       "    <tr>\n",
       "      <th>2</th>\n",
       "      <td>2020-01-06</td>\n",
       "      <td>298.282715</td>\n",
       "      <td>0.007968</td>\n",
       "    </tr>\n",
       "    <tr>\n",
       "      <th>3</th>\n",
       "      <td>2020-01-07</td>\n",
       "      <td>296.879883</td>\n",
       "      <td>-0.004703</td>\n",
       "    </tr>\n",
       "    <tr>\n",
       "      <th>4</th>\n",
       "      <td>2020-01-08</td>\n",
       "      <td>301.655548</td>\n",
       "      <td>0.016086</td>\n",
       "    </tr>\n",
       "  </tbody>\n",
       "</table>\n",
       "</div>"
      ],
      "text/plain": [
       "         date   adj_close   returns\n",
       "0  2020-01-02  298.829956       NaN\n",
       "1  2020-01-03  295.924713 -0.009722\n",
       "2  2020-01-06  298.282715  0.007968\n",
       "3  2020-01-07  296.879883 -0.004703\n",
       "4  2020-01-08  301.655548  0.016086"
      ]
     },
     "execution_count": 7,
     "metadata": {},
     "output_type": "execute_result"
    }
   ],
   "source": [
    "appl_returns = appl.prices['adj_close'].pct_change()\n",
    "\n",
    "appl.prices['returns'] = appl_returns\n",
    "\n",
    "appl.prices.head(5)"
   ]
  },
  {
   "cell_type": "code",
   "execution_count": null,
   "id": "012ef8df-b61a-447d-86d6-58bb9087d63d",
   "metadata": {},
   "outputs": [],
   "source": []
  }
 ],
 "metadata": {
  "kernelspec": {
   "display_name": "Python 3",
   "language": "python",
   "name": "python3"
  },
  "language_info": {
   "codemirror_mode": {
    "name": "ipython",
    "version": 3
   },
   "file_extension": ".py",
   "mimetype": "text/x-python",
   "name": "python",
   "nbconvert_exporter": "python",
   "pygments_lexer": "ipython3",
   "version": "3.8.8"
  }
 },
 "nbformat": 4,
 "nbformat_minor": 5
}
