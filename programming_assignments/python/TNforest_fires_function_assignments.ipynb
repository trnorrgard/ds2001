{
 "cells": [
  {
   "cell_type": "markdown",
   "metadata": {},
   "source": [
    "## Fighting Forest Fires with Functions\n",
    "\n",
    "\n",
    "### University of Virginia\n",
    "### Programming for Data Science\n",
    "### Last Updated: July 26, 2021\n",
    "---"
   ]
  },
  {
   "cell_type": "markdown",
   "metadata": {},
   "source": [
    "### Objectives: \n",
    "- Work with functions (built-in and user-defined), lambda functions, and list comprehensions\n",
    "\n",
    "### Executive Summary\n",
    "\n",
    "\n",
    "You will work with the Forest Fires Data Set from UCI.  \n",
    "\n",
    "Information about the dataset: https://archive.ics.uci.edu/ml/datasets/Forest+Fires\n",
    "\n",
    "Background: This dataset was used in a regression task, where the aim was to predict the burned area of forest fires, in the northeast region of Portugal, by using meteorological and other data.\n",
    "\n",
    "We will apply some of the steps leading to an ML task."
   ]
  },
  {
   "cell_type": "markdown",
   "metadata": {},
   "source": [
    "### Instructions\n",
    "\n",
    "Run the pre-populated code, and along the way, you will be asked to perform several graded tasks <span style=\"color:blue\">(prompted in blue font)</span>.  \n",
    "Show your code and solutions clearly in the cells following each question.   \n",
    "When the file is completed, submit the notebook through Collab.\n",
    "\n",
    "**TOTAL POINTS: 14**\n",
    "\n",
    "---\n"
   ]
  },
  {
   "cell_type": "code",
   "execution_count": 30,
   "metadata": {},
   "outputs": [],
   "source": [
    "import pandas as pd\n",
    "import numpy as np"
   ]
  },
  {
   "cell_type": "markdown",
   "metadata": {},
   "source": [
    "#### Read in the dataset from the UCI Machine Learning Repository  "
   ]
  },
  {
   "cell_type": "code",
   "execution_count": 3,
   "metadata": {},
   "outputs": [],
   "source": [
    "path_to_data = \"https://archive.ics.uci.edu/ml/machine-learning-databases/forest-fires/forestfires.csv\"\n",
    "fire = pd.read_csv(path_to_data)"
   ]
  },
  {
   "cell_type": "code",
   "execution_count": 4,
   "metadata": {},
   "outputs": [
    {
     "data": {
      "text/html": [
       "<div>\n",
       "<style scoped>\n",
       "    .dataframe tbody tr th:only-of-type {\n",
       "        vertical-align: middle;\n",
       "    }\n",
       "\n",
       "    .dataframe tbody tr th {\n",
       "        vertical-align: top;\n",
       "    }\n",
       "\n",
       "    .dataframe thead th {\n",
       "        text-align: right;\n",
       "    }\n",
       "</style>\n",
       "<table border=\"1\" class=\"dataframe\">\n",
       "  <thead>\n",
       "    <tr style=\"text-align: right;\">\n",
       "      <th></th>\n",
       "      <th>X</th>\n",
       "      <th>Y</th>\n",
       "      <th>month</th>\n",
       "      <th>day</th>\n",
       "      <th>FFMC</th>\n",
       "      <th>DMC</th>\n",
       "      <th>DC</th>\n",
       "      <th>ISI</th>\n",
       "      <th>temp</th>\n",
       "      <th>RH</th>\n",
       "      <th>wind</th>\n",
       "      <th>rain</th>\n",
       "      <th>area</th>\n",
       "    </tr>\n",
       "  </thead>\n",
       "  <tbody>\n",
       "    <tr>\n",
       "      <th>0</th>\n",
       "      <td>7</td>\n",
       "      <td>5</td>\n",
       "      <td>mar</td>\n",
       "      <td>fri</td>\n",
       "      <td>86.2</td>\n",
       "      <td>26.2</td>\n",
       "      <td>94.3</td>\n",
       "      <td>5.1</td>\n",
       "      <td>8.2</td>\n",
       "      <td>51</td>\n",
       "      <td>6.7</td>\n",
       "      <td>0.0</td>\n",
       "      <td>0.0</td>\n",
       "    </tr>\n",
       "    <tr>\n",
       "      <th>1</th>\n",
       "      <td>7</td>\n",
       "      <td>4</td>\n",
       "      <td>oct</td>\n",
       "      <td>tue</td>\n",
       "      <td>90.6</td>\n",
       "      <td>35.4</td>\n",
       "      <td>669.1</td>\n",
       "      <td>6.7</td>\n",
       "      <td>18.0</td>\n",
       "      <td>33</td>\n",
       "      <td>0.9</td>\n",
       "      <td>0.0</td>\n",
       "      <td>0.0</td>\n",
       "    </tr>\n",
       "    <tr>\n",
       "      <th>2</th>\n",
       "      <td>7</td>\n",
       "      <td>4</td>\n",
       "      <td>oct</td>\n",
       "      <td>sat</td>\n",
       "      <td>90.6</td>\n",
       "      <td>43.7</td>\n",
       "      <td>686.9</td>\n",
       "      <td>6.7</td>\n",
       "      <td>14.6</td>\n",
       "      <td>33</td>\n",
       "      <td>1.3</td>\n",
       "      <td>0.0</td>\n",
       "      <td>0.0</td>\n",
       "    </tr>\n",
       "  </tbody>\n",
       "</table>\n",
       "</div>"
      ],
      "text/plain": [
       "   X  Y month  day  FFMC   DMC     DC  ISI  temp  RH  wind  rain  area\n",
       "0  7  5   mar  fri  86.2  26.2   94.3  5.1   8.2  51   6.7   0.0   0.0\n",
       "1  7  4   oct  tue  90.6  35.4  669.1  6.7  18.0  33   0.9   0.0   0.0\n",
       "2  7  4   oct  sat  90.6  43.7  686.9  6.7  14.6  33   1.3   0.0   0.0"
      ]
     },
     "execution_count": 4,
     "metadata": {},
     "output_type": "execute_result"
    }
   ],
   "source": [
    "fire.head(3)"
   ]
  },
  {
   "cell_type": "markdown",
   "metadata": {},
   "source": [
    "**Working with spatial coordinates X, Y**\n",
    "\n",
    "X - x-axis spatial coordinate within the Montesinho park map: 1 to 9  \n",
    "Y - y-axis spatial coordinate within the Montesinho park map: 2 to 9"
   ]
  },
  {
   "cell_type": "code",
   "execution_count": 5,
   "metadata": {},
   "outputs": [],
   "source": [
    "# extract the spatial coords\n",
    "\n",
    "X, Y = fire.X.values, fire.Y.values"
   ]
  },
  {
   "cell_type": "markdown",
   "metadata": {},
   "source": [
    "**<span style=\"color:blue\">(2 PTS) 1. Write a function called `coord_builder()` with these requirements:</span>**\n",
    "\n",
    "- takes X, Y as inputs\n",
    "- contains a docstring with short description of the function\n",
    "- uses the zip() function (details: https://realpython.com/python-zip-function/)\n",
    "- builds and returns a list of tuples [(x1,y1), (x2,y2), ..., (xn,yn)] where (xi,yi) are the ordered pairs from X, Y\n",
    "\n",
    "Hint: You'll need to call list() on the zipped object to show the results\n"
   ]
  },
  {
   "cell_type": "code",
   "execution_count": 9,
   "metadata": {},
   "outputs": [],
   "source": [
    "def coord_builder(X, Y):\n",
    "    '''\n",
    "    Purpose: \n",
    "    Given to lists of integers of equal length, create a list of tuples of ordered pairs\n",
    "    \n",
    "    Inputs: \n",
    "    X = list of X-coordinates\n",
    "    Y = list of Y-coordinates\n",
    "    \n",
    "    Output:\n",
    "    list of ordered pairs of (x, y)\n",
    "    '''\n",
    "    zipped = zip(X, Y)\n",
    "    \n",
    "    return list(zipped)"
   ]
  },
  {
   "cell_type": "markdown",
   "metadata": {},
   "source": [
    "**<span style=\"color:blue\">(1 PT) 2. Call your `coord_builder()` function, passing in X, Y.  \n",
    "    Please subset the returned list to show a list with only the FIRST FIVE TUPLES. </span>**"
   ]
  },
  {
   "cell_type": "code",
   "execution_count": 13,
   "metadata": {},
   "outputs": [
    {
     "data": {
      "text/plain": [
       "[(7, 5), (7, 4), (7, 4), (8, 6), (8, 6)]"
      ]
     },
     "execution_count": 13,
     "metadata": {},
     "output_type": "execute_result"
    }
   ],
   "source": [
    "coord_builder(X, Y)[0:5]"
   ]
  },
  {
   "cell_type": "markdown",
   "metadata": {},
   "source": [
    "**Working with AREA**"
   ]
  },
  {
   "cell_type": "code",
   "execution_count": 26,
   "metadata": {},
   "outputs": [],
   "source": [
    "# extract values for area\n",
    "area = fire.area.values"
   ]
  },
  {
   "cell_type": "markdown",
   "metadata": {},
   "source": [
    "**<span style=\"color:blue\">(1 PT) 3. Write code to print the minimum area and maximum area in a tuple\n",
    "(min_value, max_value) where the min_value, max_value are floats.</span>** "
   ]
  },
  {
   "cell_type": "code",
   "execution_count": 121,
   "metadata": {},
   "outputs": [
    {
     "name": "stdout",
     "output_type": "stream",
     "text": [
      "(0.0, 1090.84)\n"
     ]
    }
   ],
   "source": [
    "min_max = (min(area), max(area))\n",
    "print(min_max)"
   ]
  },
  {
   "cell_type": "markdown",
   "metadata": {},
   "source": [
    "**<span style=\"color:blue\">(2 PTS) 4. Write a lambda function that computes the following transformation of a variable:</span>**   \n",
    "```    \n",
    "    logarithm(base10) of [1 + x]\n",
    "```\n",
    "\n",
    "**<span style=\"color:blue\">Then call the lambda function on *area*, printing the LAST 10 values.</span>**  \n",
    "Hint: numpy has a function that can be applied to an array."
   ]
  },
  {
   "cell_type": "code",
   "execution_count": 123,
   "metadata": {},
   "outputs": [
    {
     "data": {
      "text/plain": [
       "array([0.        , 0.        , 0.50105926, 0.15533604, 0.        ,\n",
       "       0.87157294, 1.74264659, 1.08493357, 0.        , 0.        ])"
      ]
     },
     "execution_count": 123,
     "metadata": {},
     "output_type": "execute_result"
    }
   ],
   "source": [
    "logs = lambda x: np.log10(1+x)\n",
    "logs(area[-10:])"
   ]
  },
  {
   "cell_type": "markdown",
   "metadata": {},
   "source": [
    "**Working with MONTH**\n",
    "\n",
    "month - month of the year: 'jan' to 'dec'"
   ]
  },
  {
   "cell_type": "code",
   "execution_count": 40,
   "metadata": {},
   "outputs": [],
   "source": [
    "month = fire.month.values"
   ]
  },
  {
   "cell_type": "markdown",
   "metadata": {},
   "source": [
    "**<span style=\"color:blue\">(1 PT) 5. Call the `unique()` function (from the numpy package) on *month*, printing the unique months:</span>**   "
   ]
  },
  {
   "cell_type": "code",
   "execution_count": 43,
   "metadata": {},
   "outputs": [
    {
     "data": {
      "text/plain": [
       "array(['apr', 'aug', 'dec', 'feb', 'jan', 'jul', 'jun', 'mar', 'may',\n",
       "       'nov', 'oct', 'sep'], dtype=object)"
      ]
     },
     "execution_count": 43,
     "metadata": {},
     "output_type": "execute_result"
    }
   ],
   "source": [
    "np.unique(month)"
   ]
  },
  {
   "cell_type": "markdown",
   "metadata": {},
   "source": [
    "**<span style=\"color:blue\">(1 PT) 6. Write a list comprehension to select all months starting with letter 'a' from *month*.   \n",
    "    Next, call set() on the result, to get the unique months starting with letter 'a'. Print this result.</span>**   "
   ]
  },
  {
   "cell_type": "code",
   "execution_count": 125,
   "metadata": {},
   "outputs": [
    {
     "data": {
      "text/plain": [
       "{'apr', 'aug'}"
      ]
     },
     "execution_count": 125,
     "metadata": {},
     "output_type": "execute_result"
    }
   ],
   "source": [
    "months_a = [month for month in month if month.startswith('a')]\n",
    "set(months_a)"
   ]
  },
  {
   "cell_type": "markdown",
   "metadata": {},
   "source": [
    "**Working with DMC**  \n",
    "DMC - DMC index from the FWI system: 1.1 to 291.3  "
   ]
  },
  {
   "cell_type": "code",
   "execution_count": 119,
   "metadata": {
    "tags": []
   },
   "outputs": [],
   "source": [
    "dmc = fire.DMC.values"
   ]
  },
  {
   "cell_type": "markdown",
   "metadata": {},
   "source": [
    "**<span style=\"color:blue\">(2 PTS) 7. Write a function called `bandpass_filter()` with these requirements:</span>**\n",
    "\n",
    "- takes three inputs: \n",
    "  - a numpy array to be filtered\n",
    "  - an integer serving as a lower bound L\n",
    "  - an integer serving as an upper bound U\n",
    "- returns a new array containing only the values from the original array which are greater than L AND less than U"
   ]
  },
  {
   "cell_type": "code",
   "execution_count": 126,
   "metadata": {},
   "outputs": [],
   "source": [
    "def bandpass_filter(arr, lower, upper):\n",
    "    '''\n",
    "    Purpose:\n",
    "    given an array of numbers and an upper/lower bound, create a new arrary of values within the range\n",
    "    \n",
    "    Inputs:\n",
    "    arr = arrary of numbers\n",
    "    lower = integer\n",
    "    upper = integer\n",
    "    \n",
    "    Output:\n",
    "    arrary bounded by upper and lower bounds\n",
    "    '''\n",
    "    mt_list = []\n",
    "    for x in arr:\n",
    "        if (x > lower) and (x < upper):\n",
    "            mt_list.append(x)\n",
    "    new_arr = np.array([mt_list])\n",
    "    return new_arr\n",
    "    "
   ]
  },
  {
   "cell_type": "markdown",
   "metadata": {},
   "source": [
    "**<span style=\"color:blue\">(1 PT) 8. Call `bandpass_filter()` passing DMC as the array, L=25, U=35, printing the result. </span>**\n"
   ]
  },
  {
   "cell_type": "code",
   "execution_count": 127,
   "metadata": {},
   "outputs": [
    {
     "data": {
      "text/plain": [
       "array([[26.2, 33.3, 32.8, 27.9, 27.4, 25.7, 33.3, 33.3, 30.7, 33.3, 25.7,\n",
       "        25.7, 25.7, 32.8, 27.2, 27.8, 26.4, 25.4, 25.4, 25.4, 25.4, 26.7,\n",
       "        25.4, 27.5, 28. , 25.4]])"
      ]
     },
     "execution_count": 127,
     "metadata": {},
     "output_type": "execute_result"
    }
   ],
   "source": [
    "bandpass_filter(dmc, 25, 35)"
   ]
  },
  {
   "cell_type": "markdown",
   "metadata": {},
   "source": [
    "**Working with FFMC**  \n",
    "FFMC - FFMC index from the FWI system: 18.7 to 96.20"
   ]
  },
  {
   "cell_type": "code",
   "execution_count": 79,
   "metadata": {
    "collapsed": true,
    "jupyter": {
     "outputs_hidden": true
    },
    "tags": []
   },
   "outputs": [
    {
     "data": {
      "text/plain": [
       "array([86.2, 90.6, 90.6, 91.7, 89.3, 92.3, 92.3, 91.5, 91. , 92.5, 92.5,\n",
       "       92.8, 63.5, 90.9, 92.9, 93.3, 91.7, 84.9, 89.2, 86.3, 91. , 91.8,\n",
       "       94.3, 90.2, 93.5, 91.4, 92.4, 90.9, 93.4, 93.5, 94.3, 88.6, 88.6,\n",
       "       91.7, 91.8, 90.3, 90.6, 90. , 90.6, 88.1, 79.5, 90.2, 94.8, 92.5,\n",
       "       90.1, 94.3, 90.9, 94.2, 87.2, 87.6, 92.9, 90.2, 92.1, 92.1, 91.7,\n",
       "       92.9, 90.3, 92.6, 84. , 86.6, 89.3, 89.3, 93. , 90.2, 91.1, 91.7,\n",
       "       92.4, 92.4, 92.4, 91.7, 91.2, 94.3, 91.7, 88.8, 93.3, 84.2, 86.6,\n",
       "       87.6, 90.1, 91. , 91.4, 90.2, 94.8, 92.1, 91.7, 92.9, 92.9, 92.9,\n",
       "       93.5, 91.7, 90.2, 91.7, 92.3, 91.4, 91.1, 89.7, 83.9, 69. , 91.4,\n",
       "       91.4, 91.4, 88.8, 94.8, 92.5, 82.1, 85.9, 91.4, 90.2, 92.5, 88.6,\n",
       "       85.9, 91.7, 89.7, 91.8, 88.1, 88.1, 91.7, 91.7, 90.1, 93. , 91.5,\n",
       "       91.5, 92.4, 84.4, 94.3, 92.6, 87.6, 93.5, 91.4, 92.6, 68.2, 87.2,\n",
       "       89.3, 93.7, 88.1, 93.5, 92.4, 90.9, 85.8, 91. , 90.9, 95.5, 90.1,\n",
       "       90. , 95.5, 95.2, 90.1, 84.4, 94.8, 93.7, 92.5, 90.1, 90.1, 94.3,\n",
       "       93.4, 94.8, 93.4, 92.1, 92.1, 92.4, 90.1, 95.2, 90.6, 92.5, 89.7,\n",
       "       84.9, 92.1, 96. , 91.2, 95.2, 92.9, 85.6, 91.4, 90.9, 90.2, 90.2,\n",
       "       81.5, 90.2, 90.1, 88.8, 92.4, 84.9, 86.8, 91.7, 93.9, 91. , 89.3,\n",
       "       90.9, 90.8, 90.7, 91.2, 95.2, 94.8, 92.9, 94.8, 93.9, 81.5, 92.9,\n",
       "       91. , 63.5, 91. , 90.1, 83.9, 91.4, 90.6, 92.9, 93.5, 91. , 92.4,\n",
       "       93.7, 90.6, 93.5, 94.3, 87.6, 91.7, 91.7, 92.4, 88.6, 92.9, 90.1,\n",
       "       90.2, 93.3, 87.6, 88.3, 90.1, 93.5, 91.7, 92.2, 93.5, 92.2, 92.9,\n",
       "       93.5, 91. , 84.4, 92.5, 91.4, 92.5, 91. , 92.5, 81.9, 88. , 83. ,\n",
       "       94.2, 91.8, 91.8, 91.8, 91.8, 92.2, 93.1, 93.1, 93.1, 93.1, 93.1,\n",
       "       91.9, 91.6, 87.5, 94.2, 94.2, 91.8, 91.8, 93.6, 91.6, 91.6, 91.1,\n",
       "       94.3, 93.7, 94.3, 92.1, 92.1, 92.1, 92.1, 92.1, 92.1, 84.4, 84. ,\n",
       "       84.6, 85.4, 85.4, 85.4, 85.4, 84.7, 85.4, 84.9, 86.9, 85.2, 93.9,\n",
       "       91.2, 91.6, 91.6, 91.6, 91.6, 91.6, 91.6, 93.1, 92.3, 93.1, 90.4,\n",
       "       90.4, 91.2, 53.4, 90.4, 90.4, 91.1, 91.1, 85.1, 89.6, 89.6, 89.6,\n",
       "       92.4, 92.4, 92.4, 92.4, 50.4, 92.6, 92.6, 91.2, 92.4, 92.4, 92.8,\n",
       "       92.8, 92.8, 92.8, 92.8, 90.7, 88.1, 92.2, 92.2, 92.2, 92.2, 92.2,\n",
       "       92.2, 91.2, 91.2, 92.1, 91.6, 91.6, 91.6, 91.6, 91.6, 91.6, 91.6,\n",
       "       91.9, 91.5, 91.5, 91.5, 91.5, 91.5, 92.1, 92.1, 92.1, 92.1, 92.1,\n",
       "       92.1, 92.1, 92.1, 92.1, 92.1, 92.5, 92.5, 92.5, 92.5, 92.5, 88.2,\n",
       "       91.9, 91.9, 91.9, 91.1, 91.1, 91.2, 91. , 91. , 91.9, 92. , 94.8,\n",
       "       90.3, 91.2, 92.1, 93.7, 90.9, 18.7, 93.7, 90.7, 95.2, 91.6, 91.6,\n",
       "       91.6, 90.5, 90.9, 94.8, 94.8, 84.7, 91.1, 91. , 93.4, 84.1, 85. ,\n",
       "       90.5, 91.6, 93.7, 93.3, 93.3, 91.1, 94.8, 90.7, 87.9, 94.6, 87.1,\n",
       "       84.7, 90.3, 92.3, 84.1, 84.6, 92.3, 93.7, 93.6, 94.8, 92.7, 93.4,\n",
       "       92. , 91.6, 91.7, 95.2, 88.9, 91.2, 93.7, 91.6, 91.6, 92.1, 94.8,\n",
       "       91.6, 89.7, 92.1, 94.8, 93.6, 90.6, 90.8, 92.1, 89.4, 93.7, 91.1,\n",
       "       90.3, 92.1, 87.9, 90.7, 90.3, 94. , 92. , 93.4, 89.7, 91.6, 95.2,\n",
       "       90.5, 91.5, 89.4, 91.6, 94.6, 91.6, 91.7, 93.7, 91.6, 93.7, 93.7,\n",
       "       91. , 75.1, 75.1, 79.5, 87.2, 90.2, 91.3, 91. , 91. , 89.6, 88.2,\n",
       "       90.5, 93. , 93.7, 93.5, 93.7, 93.7, 89.2, 93.2, 93.2, 94.9, 94.9,\n",
       "       94.9, 95. , 95.1, 95.1, 95.1, 95.1, 95.1, 95.8, 95.9, 95.9, 96. ,\n",
       "       96.2, 96.2, 96.1, 96.1, 96.1, 96.1, 96.1, 96.1, 94.5, 94.5, 91. ,\n",
       "       91. , 91. , 91. , 91. , 91. , 81.6, 81.6, 81.6, 81.6, 94.4, 79.5])"
      ]
     },
     "execution_count": 79,
     "metadata": {},
     "output_type": "execute_result"
    }
   ],
   "source": [
    "FFMC = fire.FFMC.values"
   ]
  },
  {
   "cell_type": "markdown",
   "metadata": {},
   "source": [
    "**<span style=\"color:blue\">(2 PTS) 9. Write a function called `sum_sq_err()` with these requirements:</span>**\n",
    "\n",
    "- take a numpy array as input\n",
    "- compute the mean of the array, mu\n",
    "- using a for-loop, compute the squared deviation of each array element xi from the mean, (xi - mu)**2  \n",
    "Hint: it may be helpful to keep a running sum of the squared deviations\n",
    "\n",
    "\n",
    "- computes the sum of squared deviations\n",
    "- returns the sum of squared deviations"
   ]
  },
  {
   "cell_type": "code",
   "execution_count": 128,
   "metadata": {},
   "outputs": [],
   "source": [
    "def sum_sq_err(arr):\n",
    "    mu = np.sum(arr)/len(arr)\n",
    "    sum = 0\n",
    "    for xi in arr:\n",
    "        dev = (xi-mu)**2\n",
    "        sum = sum+dev\n",
    "    return(sum)"
   ]
  },
  {
   "cell_type": "markdown",
   "metadata": {},
   "source": [
    "**<span style=\"color:blue\">(1 PT) 10. Call `sum_sq_err()` passing FFMC as the array, printing the result. </span>**"
   ]
  },
  {
   "cell_type": "code",
   "execution_count": 129,
   "metadata": {},
   "outputs": [
    {
     "data": {
      "text/plain": [
       "15723.357872340408"
      ]
     },
     "execution_count": 129,
     "metadata": {},
     "output_type": "execute_result"
    }
   ],
   "source": [
    "sum_sq_err(FFMC)"
   ]
  },
  {
   "cell_type": "markdown",
   "metadata": {},
   "source": [
    "---  "
   ]
  }
 ],
 "metadata": {
  "kernelspec": {
   "display_name": "Python 3",
   "language": "python",
   "name": "python3"
  },
  "language_info": {
   "codemirror_mode": {
    "name": "ipython",
    "version": 3
   },
   "file_extension": ".py",
   "mimetype": "text/x-python",
   "name": "python",
   "nbconvert_exporter": "python",
   "pygments_lexer": "ipython3",
   "version": "3.8.8"
  }
 },
 "nbformat": 4,
 "nbformat_minor": 4
}
